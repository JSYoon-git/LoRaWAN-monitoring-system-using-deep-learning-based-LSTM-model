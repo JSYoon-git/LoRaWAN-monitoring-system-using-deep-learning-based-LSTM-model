{
 "cells": [
  {
   "cell_type": "code",
   "execution_count": 1,
   "id": "f1d00631",
   "metadata": {
    "ExecuteTime": {
     "end_time": "2022-03-31T16:52:55.990681Z",
     "start_time": "2022-03-31T16:52:54.671000Z"
    }
   },
   "outputs": [],
   "source": [
    "import numpy as np\n",
    "import pandas as pd\n",
    "import os\n",
    "import csv\n",
    "import time\n",
    "import matplotlib.pyplot as plt\n",
    "\n",
    "import torch\n",
    "import torch.nn as nn\n",
    "import torch.optim as optim\n",
    "from torch.autograd import Variable\n",
    "from torch.utils.data import Dataset, DataLoader, TensorDataset"
   ]
  },
  {
   "cell_type": "code",
   "execution_count": 2,
   "id": "e5d7aab3",
   "metadata": {
    "ExecuteTime": {
     "end_time": "2022-03-31T16:52:55.996030Z",
     "start_time": "2022-03-31T16:52:55.992094Z"
    }
   },
   "outputs": [],
   "source": [
    "sequence = 10\n",
    "\n",
    "\n",
    "def generate_sequence_dataset(x, sequence=sequence):\n",
    "    x_list = []\n",
    "    y_list = []\n",
    "    x_len = len(x)\n",
    "    for i in range(x_len - sequence-4):\n",
    "        x_list.append(x[i:i + sequence])\n",
    "        y_list.append(x[:, 4][i + sequence+4:i + sequence + 5][0])\n",
    "    return np.array(x_list), np.array(y_list)"
   ]
  },
  {
   "cell_type": "code",
   "execution_count": 3,
   "id": "28e03f72",
   "metadata": {
    "ExecuteTime": {
     "end_time": "2022-03-31T16:52:56.020579Z",
     "start_time": "2022-03-31T16:52:55.997542Z"
    }
   },
   "outputs": [
    {
     "name": "stdout",
     "output_type": "stream",
     "text": [
      "['220219_022520.csv', '220321_220753.csv', '220223_001915.csv', '220319_134104.csv', '220220_233025.csv', '220227_023931.csv', '220308_230906.csv']\n",
      "x train dataset : (1090, 10, 6)\n",
      "y train dataset : (1090,)\n"
     ]
    }
   ],
   "source": [
    "_dir = './data/'\n",
    "file_list = os.listdir(_dir)\n",
    "print(file_list)  # show list\n",
    "x_train_dat = np.zeros((1, sequence, 6))\n",
    "y_train_dat = np.zeros(1)\n",
    "\n",
    "for fn in file_list:\n",
    "    if fn[-3:] == 'csv':\n",
    "        df = pd.read_csv(\"%s/%s\" % (_dir, fn),\n",
    "                         sep=\",\",\n",
    "                         header=0,\n",
    "                         index_col=False)\n",
    "        df = df.drop([\n",
    "            'timestamp', 'device_name', 'fcnt', 'dr', 'channel', 'rssi', 'snr',\n",
    "            'channel'\n",
    "        ],\n",
    "                     axis=1)\n",
    "        x_dat, y_dat = generate_sequence_dataset(df.values)\n",
    "        x_train_dat = np.append(x_train_dat, x_dat, axis=0)\n",
    "        y_train_dat = np.append(y_train_dat, y_dat, axis=0)\n",
    "print(\"x train dataset :\", x_train_dat.shape)\n",
    "print(\"y train dataset :\", y_train_dat.shape)"
   ]
  },
  {
   "cell_type": "code",
   "execution_count": 4,
   "id": "c84fce37",
   "metadata": {
    "ExecuteTime": {
     "end_time": "2022-03-31T16:52:56.037445Z",
     "start_time": "2022-03-31T16:52:56.021747Z"
    }
   },
   "outputs": [
    {
     "name": "stdout",
     "output_type": "stream",
     "text": [
      "pytorch : 1.10.2+cu102\n",
      "graphic name : NVIDIA GeForce RTX 2060\n"
     ]
    }
   ],
   "source": [
    "print('pytorch :', torch.__version__)\n",
    "print('graphic name :', torch.cuda.get_device_name())"
   ]
  },
  {
   "cell_type": "code",
   "execution_count": 5,
   "id": "faf3eb46",
   "metadata": {
    "ExecuteTime": {
     "end_time": "2022-03-31T16:52:56.042230Z",
     "start_time": "2022-03-31T16:52:56.038854Z"
    }
   },
   "outputs": [],
   "source": [
    "def generate_tensor_loader(x_data,\n",
    "                           y_data,\n",
    "                           batch_size,\n",
    "                           shuffle=True,\n",
    "                           drop_last=True):\n",
    "    x_tensor = torch.tensor(x_data, dtype=torch.float32)\n",
    "    y_tensor = torch.tensor(y_data, dtype=torch.float32).view(-1)\n",
    "\n",
    "    return DataLoader(TensorDataset(x_tensor, y_tensor),\n",
    "                      batch_size=batch_size,\n",
    "                      shuffle=shuffle,\n",
    "                      drop_last=drop_last)"
   ]
  },
  {
   "cell_type": "code",
   "execution_count": 6,
   "id": "50683197",
   "metadata": {
    "ExecuteTime": {
     "end_time": "2022-03-31T16:52:56.063160Z",
     "start_time": "2022-03-31T16:52:56.043309Z"
    }
   },
   "outputs": [],
   "source": [
    "trainloader = generate_tensor_loader(x_train_dat, y_train_dat, batch_size=len(x_train_dat), shuffle=True, drop_last=True)"
   ]
  },
  {
   "cell_type": "code",
   "execution_count": 7,
   "id": "a72ccd38",
   "metadata": {
    "ExecuteTime": {
     "end_time": "2022-03-31T16:52:56.066252Z",
     "start_time": "2022-03-31T16:52:56.064230Z"
    }
   },
   "outputs": [],
   "source": [
    "device = torch.device(\"cuda:0\" if torch.cuda.is_available() else \"cpu\")"
   ]
  },
  {
   "cell_type": "code",
   "execution_count": 8,
   "id": "12a69c98",
   "metadata": {
    "ExecuteTime": {
     "end_time": "2022-03-31T16:52:56.075197Z",
     "start_time": "2022-03-31T16:52:56.067374Z"
    }
   },
   "outputs": [],
   "source": [
    "class Conv1d_LSTM(nn.Module):\n",
    "    def __init__(self, num_layers, hidden_unit, dropout=0.5):\n",
    "        super(Conv1d_LSTM, self).__init__()\n",
    "        self.hidden_unit = hidden_unit\n",
    "        self.conv1d = nn.Conv1d(in_channels=6,\n",
    "                                out_channels=12,\n",
    "                                kernel_size=4,\n",
    "                                stride=1,\n",
    "                                padding=2,\n",
    "                                padding_mode='replicate')\n",
    "        self.avgpooling = nn.AvgPool1d(kernel_size=2, stride=1)\n",
    "        self.lstm = nn.LSTM(input_size=12,\n",
    "                            hidden_size=hidden_unit,\n",
    "                            num_layers=num_layers,\n",
    "                            bias=True,\n",
    "                            dropout=dropout,\n",
    "                            bidirectional=False,\n",
    "                            batch_first=True)\n",
    "\n",
    "        self.fc_layer1 = nn.Linear(self.hidden_unit, self.hidden_unit // 2)\n",
    "        self.relu = nn.ReLU()\n",
    "        self.fc_layer2 = nn.Linear(self.hidden_unit // 2, 1)\n",
    "\n",
    "    def forward(self, x):\n",
    "        x = x.transpose(1, 2)\n",
    "\n",
    "        x = self.conv1d(x)\n",
    "        x = self.relu(x)\n",
    "        x = self.avgpooling(x)\n",
    "        x = x.transpose(1, 2)\n",
    "\n",
    "        self.lstm.flatten_parameters()\n",
    "        _, (hidden, _) = self.lstm(x)\n",
    "        x = hidden[-1]\n",
    "\n",
    "        x = self.fc_layer1(x)\n",
    "        x = self.relu(x)\n",
    "        x = self.fc_layer2(x)\n",
    "\n",
    "        return x"
   ]
  },
  {
   "cell_type": "code",
   "execution_count": 9,
   "id": "c518d826",
   "metadata": {
    "ExecuteTime": {
     "end_time": "2022-03-31T16:52:56.080152Z",
     "start_time": "2022-03-31T16:52:56.077028Z"
    }
   },
   "outputs": [],
   "source": [
    "class RMSELoss(nn.Module):\n",
    "    def __init__(self, eps=1e-6):\n",
    "        super().__init__()\n",
    "        self.mse = nn.MSELoss()\n",
    "        self.eps = eps\n",
    "        \n",
    "    def forward(self,yhat,y):\n",
    "        loss = torch.sqrt(self.mse(yhat,y) + self.eps)\n",
    "        return loss"
   ]
  },
  {
   "cell_type": "code",
   "execution_count": 10,
   "id": "b1c55f34",
   "metadata": {
    "ExecuteTime": {
     "end_time": "2022-03-31T16:52:59.106141Z",
     "start_time": "2022-03-31T16:52:56.081246Z"
    }
   },
   "outputs": [],
   "source": [
    "device = torch.device(\"cuda:0\" if torch.cuda.is_available() else \"cpu\")\n",
    "model = Conv1d_LSTM(num_layers=2, hidden_unit=200).to(device)\n",
    "loss_function = RMSELoss()\n",
    "optimizer = optim.SGD(model.parameters(), lr=0.0001,\n",
    "                       weight_decay=0.000001)  # optimizer"
   ]
  },
  {
   "cell_type": "code",
   "execution_count": null,
   "id": "dde34d6c",
   "metadata": {
    "ExecuteTime": {
     "start_time": "2022-03-31T16:52:56.327Z"
    }
   },
   "outputs": [
    {
     "name": "stdout",
     "output_type": "stream",
     "text": [
      "[Train] (500, 0) RMSE = 13.44460, lr=0.000100\n",
      "[Train] (1000, 0) RMSE = 13.34995, lr=0.000100\n",
      "[Train] (1500, 0) RMSE = 13.25035, lr=0.000100\n",
      "[Train] (2000, 0) RMSE = 13.13044, lr=0.000100\n",
      "[Train] (2500, 0) RMSE = 12.99770, lr=0.000100\n",
      "[Train] (3000, 0) RMSE = 12.83579, lr=0.000100\n"
     ]
    }
   ],
   "source": [
    "view_train_epoch = 500\n",
    "loss_arr = []\n",
    "start = time.time()  # 시작 시간 저장\n",
    "\n",
    "for epoch in range(200000):\n",
    "    epoch = epoch + 0 + 1\n",
    "    for train_iter, (train_x, train_y_true) in enumerate(trainloader):\n",
    "        model.train()  # Train mode\n",
    "        model.zero_grad()  # model zero initialize\n",
    "        optimizer.zero_grad()  # optimizer zero initialize\n",
    "        \n",
    "        train_x, train_y_true = train_x.to(device), train_y_true.to(device)  # device(gpu)\n",
    "        train_y_true = train_y_true.view(-1, 1)\n",
    "        train_y_pred = model.forward(train_x)  # forward\n",
    "\n",
    "        loss = loss_function(train_y_pred, train_y_true)  # loss function\n",
    "        loss.backward()  # backward\n",
    "        optimizer.step()  # optimizer\n",
    "        _, pred_index = torch.max(train_y_pred, 1)\n",
    "    \n",
    "        if epoch % view_train_epoch == 0:\n",
    "            loss_arr.append(loss.item())\n",
    "            print(\"[Train] ({}, {}) RMSE = {:.5f}, lr={:.6f}\".format(epoch, train_iter, loss.item(), optimizer.param_groups[0]['lr']))"
   ]
  },
  {
   "cell_type": "code",
   "execution_count": null,
   "id": "17aafddb",
   "metadata": {
    "ExecuteTime": {
     "start_time": "2022-03-31T16:52:56.327Z"
    }
   },
   "outputs": [],
   "source": [
    "f = plt.figure(figsize=[6, 3])\n",
    "f.set_facecolor(\"white\")\n",
    "plt.style.use(['default'])\n",
    "\n",
    "\n",
    "plt.grid(True)\n",
    "plt.plot(loss_arr, label=\"RMSE\")\n",
    "plt.ylabel('RMSE')\n",
    "plt.xlabel('500 epoch')\n",
    "\n",
    "plt.legend()\n",
    "plt.show()"
   ]
  },
  {
   "cell_type": "code",
   "execution_count": null,
   "id": "10ce7be8",
   "metadata": {
    "ExecuteTime": {
     "start_time": "2022-03-31T16:52:56.328Z"
    }
   },
   "outputs": [],
   "source": [
    "import torch.onnx"
   ]
  },
  {
   "cell_type": "code",
   "execution_count": null,
   "id": "26d137db",
   "metadata": {
    "ExecuteTime": {
     "start_time": "2022-03-31T16:52:56.329Z"
    }
   },
   "outputs": [],
   "source": [
    "input_names = ['Time series data']\n",
    "output_names = ['Output']\n",
    "\n",
    "x = torch.zeros(1, 10, 6).to(device)\n",
    "torch.onnx.export(model, x, './model/regression_mode.onnx', input_names=input_names, output_names=output_names)\n",
    "torch.save({'epoch' : epoch,\n",
    "            'model_state_dict' : model.state_dict(),\n",
    "            'optimizer_state_dict' : optimizer.state_dict(),\n",
    "            'loss' : loss\n",
    "           }, './model/inference.pt')"
   ]
  }
 ],
 "metadata": {
  "kernelspec": {
   "display_name": "Python 3 (ipykernel)",
   "language": "python",
   "name": "python3"
  },
  "language_info": {
   "codemirror_mode": {
    "name": "ipython",
    "version": 3
   },
   "file_extension": ".py",
   "mimetype": "text/x-python",
   "name": "python",
   "nbconvert_exporter": "python",
   "pygments_lexer": "ipython3",
   "version": "3.7.11"
  }
 },
 "nbformat": 4,
 "nbformat_minor": 5
}
